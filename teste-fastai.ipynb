{
  "nbformat": 4,
  "nbformat_minor": 0,
  "metadata": {
    "orig_nbformat": 2,
    "colab": {
      "name": "teste-fastai.ipynb",
      "provenance": []
    },
    "kernelspec": {
      "name": "python3",
      "display_name": "Python 3"
    },
    "accelerator": "GPU"
  },
  "cells": [
    {
      "cell_type": "code",
      "metadata": {
        "id": "hOgHOlPSKii1",
        "colab_type": "code",
        "colab": {}
      },
      "source": [
        "v = 2 + 2\n",
        "print(v)"
      ],
      "execution_count": 0,
      "outputs": []
    }
  ]
}