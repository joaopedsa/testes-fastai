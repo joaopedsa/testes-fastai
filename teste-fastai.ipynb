{
  "cells": [
    {
      "cell_type": "code",
      "metadata": {
        "id": "hOgHOlPSKii1",
        "colab_type": "code",
        "colab": {}
      },
      "source": [
        "v = 2 + 2\n",
        "print(v)"
      ],
      "execution_count": 0,
      "outputs": []
    },
    {
      "cell_type": "code",
      "execution_count": null,
      "metadata": {},
      "outputs": [],
      "source": []
    }
  ],
  "metadata": {
    "orig_nbformat": 2,
    "colab": {
      "name": "teste-fastai.ipynb",
      "provenance": []
    },
    "kernelspec": {
      "name": "python3",
      "display_name": "Python 3"
    },
    "accelerator": "GPU"
  },
  "nbformat": 4,
  "nbformat_minor": 0
}